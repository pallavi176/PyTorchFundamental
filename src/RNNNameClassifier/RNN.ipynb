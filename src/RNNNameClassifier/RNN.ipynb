{
 "cells": [
  {
   "cell_type": "code",
   "execution_count": 2,
   "metadata": {},
   "outputs": [],
   "source": [
    "import torch\n",
    "import torch.nn as nn \n",
    "import matplotlib.pyplot as plt \n",
    "\n",
    "from utils import ALL_LETTERS, N_LETTERS\n",
    "from utils import load_data, letter_to_tensor, line_to_tensor, random_training_example"
   ]
  },
  {
   "cell_type": "code",
   "execution_count": 3,
   "metadata": {},
   "outputs": [],
   "source": [
    "# implement RNN from scratch rather than using nn.RNN\n",
    "class RNN(nn.Module):\n",
    "\n",
    "    def __init__(self, input_size, hidden_size, output_size):\n",
    "        super(RNN, self).__init__()       \n",
    "        self.hidden_size = hidden_size\n",
    "        self.i2h = nn.Linear(input_size + hidden_size, hidden_size)\n",
    "        self.i2o = nn.Linear(input_size + hidden_size, output_size)\n",
    "        self.softmax = nn.LogSoftmax(dim=1)  # 1,57; we needed 57\n",
    "        \n",
    "    def forward(self, input_tensor, hidden_tensor):\n",
    "        combined = torch.cat((input_tensor, hidden_tensor), 1)       \n",
    "        hidden = self.i2h(combined)\n",
    "        output = self.i2o(combined)\n",
    "        output = self.softmax(output)\n",
    "        return output, hidden\n",
    "    \n",
    "    def init_hidden(self):\n",
    "        # initial hidden state at the beginning\n",
    "        return torch.zeros(1, self.hidden_size)"
   ]
  },
  {
   "cell_type": "code",
   "execution_count": 4,
   "metadata": {},
   "outputs": [
    {
     "data": {
      "text/plain": [
       "18"
      ]
     },
     "execution_count": 4,
     "metadata": {},
     "output_type": "execute_result"
    }
   ],
   "source": [
    "category_lines, all_categories = load_data() # defined in utils\n",
    "n_categories = len(all_categories)\n",
    "n_categories"
   ]
  },
  {
   "cell_type": "code",
   "execution_count": 5,
   "metadata": {},
   "outputs": [
    {
     "data": {
      "text/plain": [
       "57"
      ]
     },
     "execution_count": 5,
     "metadata": {},
     "output_type": "execute_result"
    }
   ],
   "source": [
    "N_LETTERS"
   ]
  },
  {
   "cell_type": "code",
   "execution_count": 6,
   "metadata": {},
   "outputs": [
    {
     "data": {
      "text/plain": [
       "RNN(\n",
       "  (i2h): Linear(in_features=185, out_features=128, bias=True)\n",
       "  (i2o): Linear(in_features=185, out_features=18, bias=True)\n",
       "  (softmax): LogSoftmax(dim=1)\n",
       ")"
      ]
     },
     "execution_count": 6,
     "metadata": {},
     "output_type": "execute_result"
    }
   ],
   "source": [
    "n_hidden = 128\n",
    "rnn = RNN(N_LETTERS, n_hidden, n_categories)\n",
    "rnn"
   ]
  },
  {
   "cell_type": "code",
   "execution_count": 7,
   "metadata": {},
   "outputs": [
    {
     "data": {
      "text/plain": [
       "tensor([[0., 0., 0., 0., 0., 0., 0., 0., 0., 0., 0., 0., 0., 0., 0., 0., 0., 0., 0., 0., 0., 0., 0., 0.,\n",
       "         0., 0., 0., 0., 0., 0., 0., 0., 0., 0., 0., 0., 0., 0., 0., 0., 0., 0., 0., 0., 0., 0., 0., 0.,\n",
       "         0., 0., 0., 0., 0., 0., 0., 0., 0., 0., 0., 0., 0., 0., 0., 0., 0., 0., 0., 0., 0., 0., 0., 0.,\n",
       "         0., 0., 0., 0., 0., 0., 0., 0., 0., 0., 0., 0., 0., 0., 0., 0., 0., 0., 0., 0., 0., 0., 0., 0.,\n",
       "         0., 0., 0., 0., 0., 0., 0., 0., 0., 0., 0., 0., 0., 0., 0., 0., 0., 0., 0., 0., 0., 0., 0., 0.,\n",
       "         0., 0., 0., 0., 0., 0., 0., 0.]])"
      ]
     },
     "execution_count": 7,
     "metadata": {},
     "output_type": "execute_result"
    }
   ],
   "source": [
    "# one step\n",
    "input_tensor = letter_to_tensor('A')\n",
    "hidden_tensor = rnn.init_hidden()\n",
    "hidden_tensor"
   ]
  },
  {
   "cell_type": "code",
   "execution_count": 8,
   "metadata": {},
   "outputs": [
    {
     "name": "stdout",
     "output_type": "stream",
     "text": [
      "torch.Size([1, 18])\n",
      "torch.Size([1, 128])\n"
     ]
    }
   ],
   "source": [
    "output, next_hidden = rnn(input_tensor, hidden_tensor)\n",
    "print(output.size())\n",
    "print(next_hidden.size())"
   ]
  },
  {
   "cell_type": "code",
   "execution_count": 9,
   "metadata": {},
   "outputs": [
    {
     "data": {
      "text/plain": [
       "tensor([[-0.1187, -0.0786,  0.0911,  0.0247,  0.0564,  0.0958,  0.0183,  0.0627,\n",
       "         -0.0149,  0.1313,  0.0167, -0.0218, -0.0640,  0.0767,  0.0382, -0.0244,\n",
       "          0.0392,  0.0822,  0.0071,  0.0120, -0.0178,  0.0440,  0.0758,  0.0625,\n",
       "          0.0037,  0.0287,  0.0545,  0.0618, -0.0248, -0.0147,  0.0522,  0.0475,\n",
       "         -0.0207, -0.0884, -0.0046, -0.0277,  0.0902, -0.0489, -0.0005,  0.0004,\n",
       "         -0.0922,  0.0642, -0.0519, -0.0509, -0.0458, -0.0317,  0.0218,  0.0740,\n",
       "          0.0853,  0.0834,  0.0056,  0.0431, -0.0621,  0.0652, -0.0690,  0.1352,\n",
       "         -0.0088, -0.0115, -0.0364,  0.0444,  0.0529,  0.1125,  0.0252, -0.0565,\n",
       "         -0.0003, -0.0696,  0.0196, -0.0670, -0.0244, -0.0158,  0.0151,  0.1134,\n",
       "          0.0453,  0.0876,  0.0620,  0.0565, -0.0497, -0.1243, -0.0983, -0.0521,\n",
       "         -0.0793,  0.1115,  0.0500,  0.0493,  0.0086, -0.0427,  0.0894, -0.1090,\n",
       "          0.0113,  0.0298, -0.0114,  0.0653,  0.0266, -0.1204,  0.0809,  0.0647,\n",
       "          0.0616, -0.0204, -0.0918,  0.0662, -0.0292, -0.1117, -0.0037, -0.0519,\n",
       "         -0.0508,  0.0572,  0.0242, -0.1055, -0.0111,  0.0186, -0.0872,  0.0301,\n",
       "          0.0010, -0.1124,  0.0089,  0.0032,  0.0063,  0.0218, -0.1125, -0.0691,\n",
       "          0.0316, -0.0101, -0.0200, -0.0612, -0.0552, -0.0900, -0.0366,  0.0615]],\n",
       "       grad_fn=<AddmmBackward0>)"
      ]
     },
     "execution_count": 9,
     "metadata": {},
     "output_type": "execute_result"
    }
   ],
   "source": [
    "next_hidden"
   ]
  },
  {
   "cell_type": "code",
   "execution_count": 10,
   "metadata": {},
   "outputs": [
    {
     "data": {
      "text/plain": [
       "tensor([[0., 0., 0., 0., 0., 0., 0., 0., 0., 0., 0., 0., 0., 0., 0., 0., 0., 0., 0., 0., 0., 0., 0., 0.,\n",
       "         0., 0., 0., 0., 0., 0., 0., 0., 0., 0., 0., 0., 0., 0., 0., 0., 0., 0., 0., 0., 0., 0., 0., 0.,\n",
       "         0., 0., 0., 0., 0., 0., 0., 0., 0., 0., 0., 0., 0., 0., 0., 0., 0., 0., 0., 0., 0., 0., 0., 0.,\n",
       "         0., 0., 0., 0., 0., 0., 0., 0., 0., 0., 0., 0., 0., 0., 0., 0., 0., 0., 0., 0., 0., 0., 0., 0.,\n",
       "         0., 0., 0., 0., 0., 0., 0., 0., 0., 0., 0., 0., 0., 0., 0., 0., 0., 0., 0., 0., 0., 0., 0., 0.,\n",
       "         0., 0., 0., 0., 0., 0., 0., 0.]])"
      ]
     },
     "execution_count": 10,
     "metadata": {},
     "output_type": "execute_result"
    }
   ],
   "source": [
    "# whole sequence/name\n",
    "input_tensor = line_to_tensor('Albert')\n",
    "hidden_tensor = rnn.init_hidden()\n",
    "hidden_tensor"
   ]
  },
  {
   "cell_type": "code",
   "execution_count": 11,
   "metadata": {},
   "outputs": [
    {
     "name": "stdout",
     "output_type": "stream",
     "text": [
      "torch.Size([1, 18])\n",
      "torch.Size([1, 128])\n"
     ]
    }
   ],
   "source": [
    "output, next_hidden = rnn(input_tensor[0], hidden_tensor)\n",
    "print(output.size())\n",
    "print(next_hidden.size())"
   ]
  },
  {
   "cell_type": "code",
   "execution_count": 12,
   "metadata": {},
   "outputs": [
    {
     "data": {
      "text/plain": [
       "tensor([[-0.1187, -0.0786,  0.0911,  0.0247,  0.0564,  0.0958,  0.0183,  0.0627,\n",
       "         -0.0149,  0.1313,  0.0167, -0.0218, -0.0640,  0.0767,  0.0382, -0.0244,\n",
       "          0.0392,  0.0822,  0.0071,  0.0120, -0.0178,  0.0440,  0.0758,  0.0625,\n",
       "          0.0037,  0.0287,  0.0545,  0.0618, -0.0248, -0.0147,  0.0522,  0.0475,\n",
       "         -0.0207, -0.0884, -0.0046, -0.0277,  0.0902, -0.0489, -0.0005,  0.0004,\n",
       "         -0.0922,  0.0642, -0.0519, -0.0509, -0.0458, -0.0317,  0.0218,  0.0740,\n",
       "          0.0853,  0.0834,  0.0056,  0.0431, -0.0621,  0.0652, -0.0690,  0.1352,\n",
       "         -0.0088, -0.0115, -0.0364,  0.0444,  0.0529,  0.1125,  0.0252, -0.0565,\n",
       "         -0.0003, -0.0696,  0.0196, -0.0670, -0.0244, -0.0158,  0.0151,  0.1134,\n",
       "          0.0453,  0.0876,  0.0620,  0.0565, -0.0497, -0.1243, -0.0983, -0.0521,\n",
       "         -0.0793,  0.1115,  0.0500,  0.0493,  0.0086, -0.0427,  0.0894, -0.1090,\n",
       "          0.0113,  0.0298, -0.0114,  0.0653,  0.0266, -0.1204,  0.0809,  0.0647,\n",
       "          0.0616, -0.0204, -0.0918,  0.0662, -0.0292, -0.1117, -0.0037, -0.0519,\n",
       "         -0.0508,  0.0572,  0.0242, -0.1055, -0.0111,  0.0186, -0.0872,  0.0301,\n",
       "          0.0010, -0.1124,  0.0089,  0.0032,  0.0063,  0.0218, -0.1125, -0.0691,\n",
       "          0.0316, -0.0101, -0.0200, -0.0612, -0.0552, -0.0900, -0.0366,  0.0615]],\n",
       "       grad_fn=<AddmmBackward0>)"
      ]
     },
     "execution_count": 12,
     "metadata": {},
     "output_type": "execute_result"
    }
   ],
   "source": [
    "next_hidden"
   ]
  },
  {
   "cell_type": "code",
   "execution_count": 13,
   "metadata": {},
   "outputs": [],
   "source": [
    "# Get category from the rnn's output\n",
    "def category_from_output(output):\n",
    "    category_idx = torch.argmax(output).item()\n",
    "    return all_categories[category_idx]"
   ]
  },
  {
   "cell_type": "code",
   "execution_count": 14,
   "metadata": {},
   "outputs": [
    {
     "name": "stdout",
     "output_type": "stream",
     "text": [
      "Greek\n",
      "tensor([[-2.8876, -2.9218, -2.9031, -2.8635, -2.9882, -2.9343, -2.8491, -2.7959,\n",
      "         -2.8030, -2.8401, -2.8715, -2.9629, -2.8473, -2.9281, -2.9253, -2.9035,\n",
      "         -2.9698, -2.8577]], grad_fn=<LogSoftmaxBackward0>)\n"
     ]
    }
   ],
   "source": [
    "print(category_from_output(output))\n",
    "print(output)"
   ]
  },
  {
   "cell_type": "code",
   "execution_count": 15,
   "metadata": {},
   "outputs": [],
   "source": [
    "# Not correct category since model is not trained till now\n",
    "# Next step, training..."
   ]
  },
  {
   "cell_type": "code",
   "execution_count": 16,
   "metadata": {},
   "outputs": [],
   "source": [
    "criterion = nn.NLLLoss()\n",
    "learning_rate = 0.005\n",
    "optimizer = torch.optim.SGD(rnn.parameters(), lr=learning_rate)"
   ]
  },
  {
   "cell_type": "code",
   "execution_count": 17,
   "metadata": {},
   "outputs": [],
   "source": [
    "def train(line_tensor, category_tensor):\n",
    "    hidden = rnn.init_hidden()                          # initialize hidden state\n",
    "    \n",
    "    for i in range(line_tensor.size()[0]):              # length of name\n",
    "        output, hidden = rnn(line_tensor[i], hidden)    # line_tensor[i]: current character, hidden: previous hidden state\n",
    "                                                        # We will do this for whole name & then for very last char we get final output\n",
    "    loss = criterion(output, category_tensor)           # we use above final output to calculate loss\n",
    "    \n",
    "    optimizer.zero_grad()\n",
    "    loss.backward()\n",
    "    optimizer.step()\n",
    "    \n",
    "    return output, loss.item()"
   ]
  },
  {
   "cell_type": "code",
   "execution_count": 18,
   "metadata": {},
   "outputs": [
    {
     "name": "stdout",
     "output_type": "stream",
     "text": [
      "5000 5.0 2.9722 Burns / Greek WRONG (Scottish)\n",
      "10000 10.0 1.6964 Monti / Italian CORRECT\n",
      "15000 15.0 2.4641 Maalouf / English WRONG (Arabic)\n",
      "20000 20.0 1.2707 O'Halloran / Irish CORRECT\n",
      "25000 25.0 1.2041 Mustafa / Arabic CORRECT\n",
      "30000 30.0 3.0381 Hunter / German WRONG (Scottish)\n",
      "35000 35.0 1.4964 Faltysek / Polish WRONG (Czech)\n",
      "40000 40.0 1.3106 Nascimbene / Italian CORRECT\n",
      "45000 45.0 1.4340 Hill / Scottish CORRECT\n",
      "50000 50.0 0.0291 Sokolofsky / Polish CORRECT\n",
      "55000 55.00000000000001 0.0751 Papoutsis / Greek CORRECT\n",
      "60000 60.0 0.7385 Ciardha / Irish CORRECT\n",
      "65000 65.0 0.4194 Himichev / Russian CORRECT\n",
      "70000 70.0 1.8822 Peerenboom / Czech WRONG (Dutch)\n",
      "75000 75.0 1.8021 Ruscoe / French WRONG (English)\n",
      "80000 80.0 0.2828 Mcdonald / Scottish CORRECT\n",
      "85000 85.0 3.3304 Ludwig / Korean WRONG (German)\n",
      "90000 90.0 1.2677 Pelaez / Dutch WRONG (Spanish)\n",
      "95000 95.0 0.5432 Alves / Portuguese CORRECT\n",
      "100000 100.0 0.1102 Tcharnetsky / Russian CORRECT\n"
     ]
    },
    {
     "data": {
      "image/png": "[encoded data removed]",
      "text/plain": [
       "<Figure size 640x480 with 1 Axes>"
      ]
     },
     "metadata": {},
     "output_type": "display_data"
    }
   ],
   "source": [
    "# Training\n",
    "current_loss = 0\n",
    "all_losses = []\n",
    "plot_steps, print_steps = 1000, 5000\n",
    "n_iters = 100000\n",
    "for i in range(n_iters):\n",
    "    category, line, category_tensor, line_tensor = random_training_example(category_lines, all_categories)\n",
    "    \n",
    "    output, loss = train(line_tensor, category_tensor) # train word by word\n",
    "    current_loss += loss \n",
    "    \n",
    "    if (i+1) % plot_steps == 0:\n",
    "        all_losses.append(current_loss / plot_steps)\n",
    "        current_loss = 0\n",
    "        \n",
    "    if (i+1) % print_steps == 0:\n",
    "        guess = category_from_output(output)\n",
    "        correct = \"CORRECT\" if guess == category else f\"WRONG ({category})\"\n",
    "        print(f\"{i+1} {(i+1)/n_iters*100} {loss:.4f} {line} / {guess} {correct}\")\n",
    "\n",
    "plt.figure()\n",
    "plt.plot(all_losses)\n",
    "plt.show()"
   ]
  },
  {
   "cell_type": "code",
   "execution_count": 19,
   "metadata": {},
   "outputs": [],
   "source": [
    "def predict(input_line):\n",
    "    print(f\"\\n> {input_line}\")\n",
    "    with torch.no_grad():\n",
    "        line_tensor = line_to_tensor(input_line)\n",
    "        \n",
    "        hidden = rnn.init_hidden()\n",
    "    \n",
    "        for i in range(line_tensor.size()[0]):\n",
    "            output, hidden = rnn(line_tensor[i], hidden)\n",
    "        \n",
    "        guess = category_from_output(output)\n",
    "        print(guess)"
   ]
  },
  {
   "cell_type": "code",
   "execution_count": 20,
   "metadata": {},
   "outputs": [
    {
     "name": "stdout",
     "output_type": "stream",
     "text": [
      "\n",
      "> Brian\n",
      "Scottish\n",
      "\n",
      "> Cennetig\n",
      "Scottish\n",
      "\n",
      "> Colman\n",
      "Irish\n",
      "\n",
      "> Bellamy\n",
      "English\n",
      "\n",
      "> Bernard\n",
      "English\n",
      "\n",
      "> Cloutier\n",
      "French\n",
      "\n",
      "> Scott\n",
      "English\n",
      "\n",
      "> Fraser\n",
      "German\n",
      "\n",
      "> Walker\n",
      "German\n",
      "\n",
      "> Muir\n",
      "Chinese\n",
      "\n",
      "> Ritchie\n",
      "Scottish\n",
      "\n",
      "> Addams\n",
      "English\n"
     ]
    }
   ],
   "source": [
    "while True:\n",
    "    sentence = input(\"Input:\")\n",
    "    if sentence == \"quit\":\n",
    "        break\n",
    "    \n",
    "    predict(sentence)"
   ]
  },
  {
   "cell_type": "code",
   "execution_count": null,
   "metadata": {},
   "outputs": [],
   "source": []
  }
 ],
 "metadata": {
  "kernelspec": {
   "display_name": "Python 3.8.13",
   "language": "python",
   "name": "python3"
  },
  "language_info": {
   "codemirror_mode": {
    "name": "ipython",
    "version": 3
   },
   "file_extension": ".py",
   "mimetype": "text/x-python",
   "name": "python",
   "nbconvert_exporter": "python",
   "pygments_lexer": "ipython3",
   "version": "3.8.13"
  },
  "orig_nbformat": 4,
  "vscode": {
   "interpreter": {
    "hash": "efbb18afce9a869a9a4bae09aee859ffdefe2f78fde0e8f74cb5cd933b79121d"
   }
  }
 },
 "nbformat": 4,
 "nbformat_minor": 2
}
